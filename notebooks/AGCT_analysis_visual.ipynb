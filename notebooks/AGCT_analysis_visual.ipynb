{
 "cells": [
  {
   "cell_type": "markdown",
   "id": "790c5297",
   "metadata": {},
   "source": [
    "# AGCT Café 資料視覺化分析\n",
    "Dataset: `AGCT_Cafe_Sales_Data_CLEANED_V2.csv`"
   ]
  },
  {
   "cell_type": "code",
   "id": "025110b3",
   "metadata": {
    "ExecuteTime": {
     "end_time": "2025-06-11T11:02:31.781117Z",
     "start_time": "2025-06-11T11:02:31.697131Z"
    }
   },
   "source": [
    "import os\n",
    "import pandas as pd\n",
    "import matplotlib.pyplot as plt\n",
    "import seaborn as sns\n",
    "import json\n",
    "import plotly.express as px\n",
    "\n",
    "target_dir = r\"C:\\Users\\user\\Desktop\\面試\\專案\"\n",
    "os.chdir(target_dir)\n",
    "\n",
    "rules = pd.read_csv(\"AGCT_apriori_rules.csv\")\n",
    "df = pd.read_csv(\"AGCT_Cafe_Sales_Data_CLEANED_V2.csv\")\n",
    "df[\"date\"] = pd.to_datetime(df[\"date\"])\n",
    "df[\"month\"] = df[\"date\"].dt.to_period(\"M\").astype(str)\n",
    "df[\"avg_spend_per_guest\"] = df[\"total_amount\"] / df[\"guest_count\"]"
   ],
   "outputs": [],
   "execution_count": 1
  },
  {
   "cell_type": "markdown",
   "id": "df37a4dc",
   "metadata": {},
   "source": "## 展開商品欄位"
  },
  {
   "cell_type": "code",
   "id": "506e5fc7",
   "metadata": {
    "ExecuteTime": {
     "end_time": "2025-06-11T11:02:31.903052Z",
     "start_time": "2025-06-11T11:02:31.792081Z"
    }
   },
   "source": [
    "all_items = []\n",
    "for idx, row in df.iterrows():\n",
    "    items = json.loads(row[\"order_items\"])\n",
    "    for i in items:\n",
    "        all_items.append({\n",
    "            \"transaction_id\": row[\"transaction_id\"],\n",
    "            \"date\": row[\"date\"],\n",
    "            \"month\": row[\"month\"],\n",
    "            \"customer_type\": row[\"customer_type\"],\n",
    "            \"dine_type\": row[\"dine_type\"],\n",
    "            \"guest_count\": row[\"guest_count\"],\n",
    "            \"product\": i[\"product\"],\n",
    "            \"qty\": i[\"qty\"],\n",
    "            \"unit_price\": i[\"unit_price\"]\n",
    "        })\n",
    "\n",
    "df_items = pd.DataFrame(all_items)\n",
    "df_items[\"total_price\"] = df_items[\"qty\"] * df_items[\"unit_price\"]\n",
    "df_items.head()"
   ],
   "outputs": [
    {
     "data": {
      "text/plain": [
       "  transaction_id       date    month customer_type dine_type  guest_count  \\\n",
       "0       TXN00225 2021-06-01  2021-06     Returning    DineIn            2   \n",
       "1       TXN00225 2021-06-01  2021-06     Returning    DineIn            2   \n",
       "2       TXN00225 2021-06-01  2021-06     Returning    DineIn            2   \n",
       "3       TXN00215 2021-06-01  2021-06           New    DineIn            2   \n",
       "4       TXN00230 2021-06-01  2021-06           New   TakeOut            2   \n",
       "\n",
       "     product  qty  unit_price  total_price  \n",
       "0  Americano    1         120          120  \n",
       "1  Americano    1         120          120  \n",
       "2   Tiramisu    1         170          170  \n",
       "3   Sandwich    1         250          250  \n",
       "4   Tiramisu    2         170          340  "
      ],
      "text/html": [
       "<div>\n",
       "<style scoped>\n",
       "    .dataframe tbody tr th:only-of-type {\n",
       "        vertical-align: middle;\n",
       "    }\n",
       "\n",
       "    .dataframe tbody tr th {\n",
       "        vertical-align: top;\n",
       "    }\n",
       "\n",
       "    .dataframe thead th {\n",
       "        text-align: right;\n",
       "    }\n",
       "</style>\n",
       "<table border=\"1\" class=\"dataframe\">\n",
       "  <thead>\n",
       "    <tr style=\"text-align: right;\">\n",
       "      <th></th>\n",
       "      <th>transaction_id</th>\n",
       "      <th>date</th>\n",
       "      <th>month</th>\n",
       "      <th>customer_type</th>\n",
       "      <th>dine_type</th>\n",
       "      <th>guest_count</th>\n",
       "      <th>product</th>\n",
       "      <th>qty</th>\n",
       "      <th>unit_price</th>\n",
       "      <th>total_price</th>\n",
       "    </tr>\n",
       "  </thead>\n",
       "  <tbody>\n",
       "    <tr>\n",
       "      <th>0</th>\n",
       "      <td>TXN00225</td>\n",
       "      <td>2021-06-01</td>\n",
       "      <td>2021-06</td>\n",
       "      <td>Returning</td>\n",
       "      <td>DineIn</td>\n",
       "      <td>2</td>\n",
       "      <td>Americano</td>\n",
       "      <td>1</td>\n",
       "      <td>120</td>\n",
       "      <td>120</td>\n",
       "    </tr>\n",
       "    <tr>\n",
       "      <th>1</th>\n",
       "      <td>TXN00225</td>\n",
       "      <td>2021-06-01</td>\n",
       "      <td>2021-06</td>\n",
       "      <td>Returning</td>\n",
       "      <td>DineIn</td>\n",
       "      <td>2</td>\n",
       "      <td>Americano</td>\n",
       "      <td>1</td>\n",
       "      <td>120</td>\n",
       "      <td>120</td>\n",
       "    </tr>\n",
       "    <tr>\n",
       "      <th>2</th>\n",
       "      <td>TXN00225</td>\n",
       "      <td>2021-06-01</td>\n",
       "      <td>2021-06</td>\n",
       "      <td>Returning</td>\n",
       "      <td>DineIn</td>\n",
       "      <td>2</td>\n",
       "      <td>Tiramisu</td>\n",
       "      <td>1</td>\n",
       "      <td>170</td>\n",
       "      <td>170</td>\n",
       "    </tr>\n",
       "    <tr>\n",
       "      <th>3</th>\n",
       "      <td>TXN00215</td>\n",
       "      <td>2021-06-01</td>\n",
       "      <td>2021-06</td>\n",
       "      <td>New</td>\n",
       "      <td>DineIn</td>\n",
       "      <td>2</td>\n",
       "      <td>Sandwich</td>\n",
       "      <td>1</td>\n",
       "      <td>250</td>\n",
       "      <td>250</td>\n",
       "    </tr>\n",
       "    <tr>\n",
       "      <th>4</th>\n",
       "      <td>TXN00230</td>\n",
       "      <td>2021-06-01</td>\n",
       "      <td>2021-06</td>\n",
       "      <td>New</td>\n",
       "      <td>TakeOut</td>\n",
       "      <td>2</td>\n",
       "      <td>Tiramisu</td>\n",
       "      <td>2</td>\n",
       "      <td>170</td>\n",
       "      <td>340</td>\n",
       "    </tr>\n",
       "  </tbody>\n",
       "</table>\n",
       "</div>"
      ]
     },
     "execution_count": 2,
     "metadata": {},
     "output_type": "execute_result"
    }
   ],
   "execution_count": 2
  },
  {
   "cell_type": "markdown",
   "id": "fd8ecd34",
   "metadata": {},
   "source": [
    "## Trend 1: Monthly Revenue Trend"
   ]
  },
  {
   "cell_type": "code",
   "id": "83bbf689",
   "metadata": {
    "ExecuteTime": {
     "end_time": "2025-06-11T11:02:32.254260Z",
     "start_time": "2025-06-11T11:02:32.097961Z"
    }
   },
   "source": [
    "monthly_revenue = df.groupby(\"month\")[\"total_amount\"].sum().reset_index()\n",
    "plt.figure(figsize=(8, 5))\n",
    "sns.lineplot(data=monthly_revenue, x=\"month\", y=\"total_amount\", marker=\"o\")\n",
    "plt.title(\"Monthly Revenue Trend\")\n",
    "plt.ylabel(\"Total Revenue (NTD)\")\n",
    "plt.xticks(rotation=45)\n",
    "plt.tight_layout()\n",
    "plt.show()"
   ],
   "outputs": [
    {
     "data": {
      "text/plain": [
       "<Figure size 800x500 with 1 Axes>"
      ],
      "image/png": "[encoded data removed]"
     },
     "metadata": {},
     "output_type": "display_data"
    }
   ],
   "execution_count": 3
  },
  {
   "cell_type": "markdown",
   "id": "36eb5678",
   "metadata": {},
   "source": [
    "## Trend 2: Customer Type Distribution"
   ]
  },
  {
   "cell_type": "code",
   "id": "98aa0832",
   "metadata": {
    "ExecuteTime": {
     "end_time": "2025-06-11T11:02:32.389017Z",
     "start_time": "2025-06-11T11:02:32.285235Z"
    }
   },
   "source": [
    "plt.figure(figsize=(6, 4))\n",
    "sns.countplot(data=df, x=\"customer_type\", hue=\"customer_type\", palette=\"pastel\", legend=False)\n",
    "plt.title(\"Customer Type Distribution\")\n",
    "plt.ylabel(\"Number of Orders\")\n",
    "plt.xlabel(\"Customer Type\")\n",
    "plt.tight_layout()\n",
    "plt.show()"
   ],
   "outputs": [
    {
     "data": {
      "text/plain": [
       "<Figure size 600x400 with 1 Axes>"
      ],
      "image/png": "[encoded data removed]"
     },
     "metadata": {},
     "output_type": "display_data"
    }
   ],
   "execution_count": 4
  },
  {
   "cell_type": "markdown",
   "id": "6ceca489",
   "metadata": {},
   "source": [
    "## Trend 3: Guest Count vs Avg Spend"
   ]
  },
  {
   "cell_type": "code",
   "id": "aa0644e1",
   "metadata": {
    "ExecuteTime": {
     "end_time": "2025-06-11T11:02:32.544925Z",
     "start_time": "2025-06-11T11:02:32.412128Z"
    }
   },
   "source": [
    "plt.figure(figsize=(8, 5))\n",
    "sns.boxplot(data=df, x=\"guest_count\", y=\"avg_spend_per_guest\", hue=\"guest_count\", palette=\"Set2\", legend=False)\n",
    "plt.title(\"Guest Count vs Average Spend per Guest\")\n",
    "plt.xlabel(\"Guest Count\")\n",
    "plt.ylabel(\"Avg Spend per Guest (NTD)\")\n",
    "plt.tight_layout()\n",
    "plt.show()"
   ],
   "outputs": [
    {
     "data": {
      "text/plain": [
       "<Figure size 800x500 with 1 Axes>"
      ],
      "image/png": "[encoded data removed]"
     },
     "metadata": {},
     "output_type": "display_data"
    }
   ],
   "execution_count": 5
  },
  {
   "cell_type": "markdown",
   "id": "4277adfc",
   "metadata": {},
   "source": [
    "## Trend 4: Wait Time vs Total Amount"
   ]
  },
  {
   "cell_type": "code",
   "id": "d6f3c777",
   "metadata": {
    "ExecuteTime": {
     "end_time": "2025-06-11T11:02:32.738640Z",
     "start_time": "2025-06-11T11:02:32.557883Z"
    }
   },
   "source": [
    "df[\"wait_time_min\"] = (\n",
    "    pd.to_datetime(df[\"serve_time\"], format=\"%H:%M\") -\n",
    "    pd.to_datetime(df[\"order_time\"], format=\"%H:%M\")\n",
    ").dt.total_seconds() / 60\n",
    "\n",
    "plt.figure(figsize=(8, 5))\n",
    "sns.scatterplot(data=df, x=\"wait_time_min\", y=\"total_amount\", alpha=0.6)\n",
    "plt.title(\"Wait Time vs Total Amount\")\n",
    "plt.xlabel(\"Wait Time (minutes)\")\n",
    "plt.ylabel(\"Total Amount (NTD)\")\n",
    "plt.tight_layout()\n",
    "plt.show()"
   ],
   "outputs": [
    {
     "data": {
      "text/plain": [
       "<Figure size 800x500 with 1 Axes>"
      ],
      "image/png": "[encoded data removed]"
     },
     "metadata": {},
     "output_type": "display_data"
    }
   ],
   "execution_count": 6
  },
  {
   "cell_type": "markdown",
   "id": "5b96f86f",
   "metadata": {},
   "source": [
    "## Trend 5: Order Heatmap by Hour and Weekday"
   ]
  },
  {
   "cell_type": "code",
   "id": "890a3afe",
   "metadata": {
    "ExecuteTime": {
     "end_time": "2025-06-11T11:02:32.944431Z",
     "start_time": "2025-06-11T11:02:32.751520Z"
    }
   },
   "source": [
    "df[\"order_hour\"] = pd.to_datetime(df[\"order_time\"], format=\"%H:%M\").dt.hour\n",
    "df[\"weekday\"] = pd.Categorical(df[\"weekday\"], categories=[\n",
    "    \"Monday\", \"Tuesday\", \"Wednesday\", \"Thursday\", \"Friday\", \"Saturday\", \"Sunday\"\n",
    "], ordered=True)\n",
    "\n",
    "heatmap_data = df.groupby([\"weekday\", \"order_hour\"], observed=False)[\"transaction_id\"].count().unstack(fill_value=0)\n",
    "plt.figure(figsize=(10, 6))\n",
    "sns.heatmap(heatmap_data, cmap=\"YlGnBu\", linewidths=0.5)\n",
    "plt.title(\"Order Volume Heatmap by Hour and Weekday\")\n",
    "plt.xlabel(\"Order Hour\")\n",
    "plt.ylabel(\"Weekday\")\n",
    "plt.tight_layout()\n",
    "plt.show()"
   ],
   "outputs": [
    {
     "data": {
      "text/plain": [
       "<Figure size 1000x600 with 2 Axes>"
      ],
      "image/png": "[encoded data removed]"
     },
     "metadata": {},
     "output_type": "display_data"
    }
   ],
   "execution_count": 7
  },
  {
   "cell_type": "markdown",
   "id": "542bb3fd",
   "metadata": {},
   "source": [
    "## Trend 6: Top 10 Best-Selling Products"
   ]
  },
  {
   "cell_type": "code",
   "id": "2dcc9fe7",
   "metadata": {
    "ExecuteTime": {
     "end_time": "2025-06-11T11:02:33.132881Z",
     "start_time": "2025-06-11T11:02:32.973730Z"
    }
   },
   "source": [
    "top_products = df_items.groupby(\"product\")[\"qty\"].sum().sort_values(ascending=False).head(10)\n",
    "plt.figure(figsize=(8, 5))\n",
    "sns.barplot(x=top_products.values, y=top_products.index, hue=top_products.index, palette=\"Set3\", legend=False)\n",
    "plt.title(\"Top 10 Best-Selling Products\")\n",
    "plt.xlabel(\"Units Sold\")\n",
    "plt.ylabel(\"Product\")\n",
    "plt.tight_layout()\n",
    "plt.show()"
   ],
   "outputs": [
    {
     "data": {
      "text/plain": [
       "<Figure size 800x500 with 1 Axes>"
      ],
      "image/png": "[encoded data removed]"
     },
     "metadata": {},
     "output_type": "display_data"
    }
   ],
   "execution_count": 8
  },
  {
   "cell_type": "markdown",
   "id": "83928fc5",
   "metadata": {},
   "source": [
    "## Trend 7: Product Price vs Quantity Sold"
   ]
  },
  {
   "cell_type": "code",
   "id": "4436bb52",
   "metadata": {
    "ExecuteTime": {
     "end_time": "2025-06-11T11:02:33.270953Z",
     "start_time": "2025-06-11T11:02:33.141547Z"
    }
   },
   "source": [
    "product_prices = {\n",
    "    \"EarlGrey\": 160, \"PourOver\": 180, \"AuLait\": 200, \"Sandwich\": 250, \"Meal\": 200,\n",
    "    \"Tiramisu\": 170, \"CinnamonRoll\": 170, \"Americano\": 120, \"IceDrip\": 150, \"ShaddockSparkling\": 160\n",
    "}\n",
    "product_summary = df_items.groupby(\"product\")[\"qty\"].sum().reset_index()\n",
    "product_summary[\"price\"] = product_summary[\"product\"].map(product_prices)\n",
    "product_summary[\"revenue\"] = product_summary[\"qty\"] * product_summary[\"price\"]\n",
    "\n",
    "plt.figure(figsize=(8, 6))\n",
    "sns.scatterplot(data=product_summary, x=\"price\", y=\"qty\", size=\"revenue\", legend=False, sizes=(100, 1000), alpha=0.7)\n",
    "plt.title(\"Product Price vs Quantity Sold (Bubble = Revenue)\")\n",
    "plt.xlabel(\"Unit Price (NTD)\")\n",
    "plt.ylabel(\"Total Quantity Sold\")\n",
    "plt.tight_layout()\n",
    "plt.show()"
   ],
   "outputs": [
    {
     "data": {
      "text/plain": [
       "<Figure size 800x600 with 1 Axes>"
      ],
      "image/png": "[encoded data removed]"
     },
     "metadata": {},
     "output_type": "display_data"
    }
   ],
   "execution_count": 9
  },
  {
   "cell_type": "markdown",
   "id": "5ae8db2b",
   "metadata": {},
   "source": [
    "## Trend 8: Product Preference by Customer Type"
   ]
  },
  {
   "cell_type": "code",
   "id": "7ce35508",
   "metadata": {
    "ExecuteTime": {
     "end_time": "2025-06-11T11:02:33.462138Z",
     "start_time": "2025-06-11T11:02:33.300545Z"
    }
   },
   "source": [
    "stacked_data = df_items.pivot_table(index=\"product\", columns=\"customer_type\", values=\"qty\", aggfunc=\"sum\").fillna(0)\n",
    "stacked_data = stacked_data.loc[stacked_data.sum(axis=1).sort_values(ascending=False).index[:10]]\n",
    "\n",
    "stacked_data.plot(kind=\"bar\", stacked=True, colormap=\"Set2\", figsize=(10, 6))\n",
    "plt.title(\"Product Preference by Customer Type (Top 10 Products)\")\n",
    "plt.xlabel(\"Product\")\n",
    "plt.ylabel(\"Quantity Purchased\")\n",
    "plt.xticks(rotation=45)\n",
    "plt.tight_layout()\n",
    "plt.show()"
   ],
   "outputs": [
    {
     "data": {
      "text/plain": [
       "<Figure size 1000x600 with 1 Axes>"
      ],
      "image/png": "[encoded data removed]"
     },
     "metadata": {},
     "output_type": "display_data"
    }
   ],
   "execution_count": 10
  },
  {
   "metadata": {},
   "cell_type": "markdown",
   "source": "## Trend 9: Top 10 Association Rules by Lift",
   "id": "79d00cc4119539ee"
  },
  {
   "metadata": {
    "ExecuteTime": {
     "end_time": "2025-06-11T11:02:33.755999Z",
     "start_time": "2025-06-11T11:02:33.473349Z"
    }
   },
   "cell_type": "code",
   "source": [
    "# 建立規則欄位\n",
    "rules[\"rule\"] = rules[\"antecedents\"] + \" → \" + rules[\"consequents\"]\n",
    "\n",
    "# 取前 N 筆 lift 最高的規則\n",
    "top_n = 10\n",
    "rules_top = rules.sort_values(by=\"lift\", ascending=False).head(top_n)\n",
    "\n",
    "# 每條 bar 用不同顏色 → 將 rule 作為 color 分群欄位\n",
    "fig = px.bar(\n",
    "    rules_top,\n",
    "    x=\"lift\",\n",
    "    y=\"rule\",\n",
    "    orientation=\"h\",\n",
    "    color=\"rule\",  # 🎨 關鍵設定：依 rule 區分顏色\n",
    "    hover_data={\n",
    "        \"support\": ':.4f',\n",
    "        \"confidence\": ':.4f',\n",
    "        \"lift\": ':.2f',\n",
    "        \"rule\": True\n",
    "    },\n",
    "    title=f\"Top {top_n} Association Rules by Lift\",\n",
    "    labels={\"lift\": \"Lift\", \"rule\": \"Rule\"}\n",
    ")\n",
    "\n",
    "fig.update_layout(\n",
    "    height=500,\n",
    "    yaxis={'categoryorder': 'total ascending'},\n",
    "    showlegend=False  # 不顯示圖例，避免顏色重複列出\n",
    ")\n",
    "\n",
    "fig.show()"
   ],
   "id": "6e3bff5d80e86549",
   "outputs": [
    {
     "data": {
      "application/vnd.plotly.v1+json": {
       "data": [
        {
         "customdata": {
          "dtype": "f8",
          "bdata": "NhhpxwqEoT/47VJPxm/XPw==",
          "shape": "1, 2"
         },
         "hovertemplate": "Rule=%{y}<br>Lift=%{x:.2f}<br>support=%{customdata[0]:.4f}<br>confidence=%{customdata[1]:.4f}<extra></extra>",
         "legendgroup": "IceDrip → CinnamonRoll",
         "marker": {
          "color": "#636efa",
          "pattern": {
           "shape": ""
          }
         },
         "name": "IceDrip → CinnamonRoll",
         "orientation": "h",
         "showlegend": true,
         "textposition": "auto",
         "x": {
          "dtype": "f8",
          "bdata": "JquEYG4C7T8="
         },
         "xaxis": "x",
         "y": [
          "IceDrip → CinnamonRoll"
         ],
         "yaxis": "y",
         "type": "bar"
        },
        {
         "customdata": {
          "dtype": "f8",
          "bdata": "3nNLnPo9tz8lmsWFU23XPw==",
          "shape": "1, 2"
         },
         "hovertemplate": "Rule=%{y}<br>Lift=%{x:.2f}<br>support=%{customdata[0]:.4f}<br>confidence=%{customdata[1]:.4f}<extra></extra>",
         "legendgroup": "EarlGrey → CinnamonRoll",
         "marker": {
          "color": "#EF553B",
          "pattern": {
           "shape": ""
          }
         },
         "name": "EarlGrey → CinnamonRoll",
         "orientation": "h",
         "showlegend": true,
         "textposition": "auto",
         "x": {
          "dtype": "f8",
          "bdata": "GYaQjGb/7D8="
         },
         "xaxis": "x",
         "y": [
          "EarlGrey → CinnamonRoll"
         ],
         "yaxis": "y",
         "type": "bar"
        },
        {
         "customdata": {
          "dtype": "f8",
          "bdata": "G8prKK+hvD/paVlYmp7WPw==",
          "shape": "1, 2"
         },
         "hovertemplate": "Rule=%{y}<br>Lift=%{x:.2f}<br>support=%{customdata[0]:.4f}<br>confidence=%{customdata[1]:.4f}<extra></extra>",
         "legendgroup": "AuLait → CinnamonRoll",
         "marker": {
          "color": "#00cc96",
          "pattern": {
           "shape": ""
          }
         },
         "name": "AuLait → CinnamonRoll",
         "orientation": "h",
         "showlegend": true,
         "textposition": "auto",
         "x": {
          "dtype": "f8",
          "bdata": "uk00goX/6z8="
         },
         "xaxis": "x",
         "y": [
          "AuLait → CinnamonRoll"
         ],
         "yaxis": "y",
         "type": "bar"
        },
        {
         "customdata": {
          "dtype": "f8",
          "bdata": "mpmZmZmZqT+0qFnULGrWPw==",
          "shape": "1, 2"
         },
         "hovertemplate": "Rule=%{y}<br>Lift=%{x:.2f}<br>support=%{customdata[0]:.4f}<br>confidence=%{customdata[1]:.4f}<extra></extra>",
         "legendgroup": "PourOver → CinnamonRoll",
         "marker": {
          "color": "#ab63fa",
          "pattern": {
           "shape": ""
          }
         },
         "name": "PourOver → CinnamonRoll",
         "orientation": "h",
         "showlegend": true,
         "textposition": "auto",
         "x": {
          "dtype": "f8",
          "bdata": "sQjEjqC+6z8="
         },
         "xaxis": "x",
         "y": [
          "PourOver → CinnamonRoll"
         ],
         "yaxis": "y",
         "type": "bar"
        },
        {
         "customdata": {
          "dtype": "f8",
          "bdata": "rmMFwkg7pj+b3E3uJnfTPw==",
          "shape": "1, 2"
         },
         "hovertemplate": "Rule=%{y}<br>Lift=%{x:.2f}<br>support=%{customdata[0]:.4f}<br>confidence=%{customdata[1]:.4f}<extra></extra>",
         "legendgroup": "PourOver → Tiramisu",
         "marker": {
          "color": "#FFA15A",
          "pattern": {
           "shape": ""
          }
         },
         "name": "PourOver → Tiramisu",
         "orientation": "h",
         "showlegend": true,
         "textposition": "auto",
         "x": {
          "dtype": "f8",
          "bdata": "uA6UoGV/6z8="
         },
         "xaxis": "x",
         "y": [
          "PourOver → Tiramisu"
         ],
         "yaxis": "y",
         "type": "bar"
        },
        {
         "customdata": {
          "dtype": "f8",
          "bdata": "fpF2rEAYuT+Ln+o67WvTPw==",
          "shape": "1, 2"
         },
         "hovertemplate": "Rule=%{y}<br>Lift=%{x:.2f}<br>support=%{customdata[0]:.4f}<br>confidence=%{customdata[1]:.4f}<extra></extra>",
         "legendgroup": "Americano → Tiramisu",
         "marker": {
          "color": "#19d3f3",
          "pattern": {
           "shape": ""
          }
         },
         "name": "Americano → Tiramisu",
         "orientation": "h",
         "showlegend": true,
         "textposition": "auto",
         "x": {
          "dtype": "f8",
          "bdata": "3GHWH4pv6z8="
         },
         "xaxis": "x",
         "y": [
          "Americano → Tiramisu"
         ],
         "yaxis": "y",
         "type": "bar"
        },
        {
         "customdata": {
          "dtype": "f8",
          "bdata": "2ViBMNKOlT8FFlhggQXWPw==",
          "shape": "1, 2"
         },
         "hovertemplate": "Rule=%{y}<br>Lift=%{x:.2f}<br>support=%{customdata[0]:.4f}<br>confidence=%{customdata[1]:.4f}<extra></extra>",
         "legendgroup": "Tiramisu, EarlGrey → CinnamonRoll",
         "marker": {
          "color": "#FF6692",
          "pattern": {
           "shape": ""
          }
         },
         "name": "Tiramisu, EarlGrey → CinnamonRoll",
         "orientation": "h",
         "showlegend": true,
         "textposition": "auto",
         "x": {
          "dtype": "f8",
          "bdata": "kfYDCgVC6z8="
         },
         "xaxis": "x",
         "y": [
          "Tiramisu, EarlGrey → CinnamonRoll"
         ],
         "yaxis": "y",
         "type": "bar"
        },
        {
         "customdata": {
          "dtype": "f8",
          "bdata": "scSp33NLvD+ult1F7uXVPw==",
          "shape": "1, 2"
         },
         "hovertemplate": "Rule=%{y}<br>Lift=%{x:.2f}<br>support=%{customdata[0]:.4f}<br>confidence=%{customdata[1]:.4f}<extra></extra>",
         "legendgroup": "Americano → CinnamonRoll",
         "marker": {
          "color": "#B6E880",
          "pattern": {
           "shape": ""
          }
         },
         "name": "Americano → CinnamonRoll",
         "orientation": "h",
         "showlegend": true,
         "textposition": "auto",
         "x": {
          "dtype": "f8",
          "bdata": "cEcS5e8a6z8="
         },
         "xaxis": "x",
         "y": [
          "Americano → CinnamonRoll"
         ],
         "yaxis": "y",
         "type": "bar"
        },
        {
         "customdata": {
          "dtype": "f8",
          "bdata": "FE79nlvilD/VXM3VXM3VPw==",
          "shape": "1, 2"
         },
         "hovertemplate": "Rule=%{y}<br>Lift=%{x:.2f}<br>support=%{customdata[0]:.4f}<br>confidence=%{customdata[1]:.4f}<extra></extra>",
         "legendgroup": "AuLait, EarlGrey → CinnamonRoll",
         "marker": {
          "color": "#FF97FF",
          "pattern": {
           "shape": ""
          }
         },
         "name": "AuLait, EarlGrey → CinnamonRoll",
         "orientation": "h",
         "showlegend": true,
         "textposition": "auto",
         "x": {
          "dtype": "f8",
          "bdata": "2hNK7Ib86j8="
         },
         "xaxis": "x",
         "y": [
          "AuLait, EarlGrey → CinnamonRoll"
         ],
         "yaxis": "y",
         "type": "bar"
        },
        {
         "customdata": {
          "dtype": "f8",
          "bdata": "2ViBMNKOlT9VVVVVVVXVPw==",
          "shape": "1, 2"
         },
         "hovertemplate": "Rule=%{y}<br>Lift=%{x:.2f}<br>support=%{customdata[0]:.4f}<br>confidence=%{customdata[1]:.4f}<extra></extra>",
         "legendgroup": "Americano, EarlGrey → CinnamonRoll",
         "marker": {
          "color": "#FECB52",
          "pattern": {
           "shape": ""
          }
         },
         "name": "Americano, EarlGrey → CinnamonRoll",
         "orientation": "h",
         "showlegend": true,
         "textposition": "auto",
         "x": {
          "dtype": "f8",
          "bdata": "3daz4fRn6j8="
         },
         "xaxis": "x",
         "y": [
          "Americano, EarlGrey → CinnamonRoll"
         ],
         "yaxis": "y",
         "type": "bar"
        }
       ],
       "layout": {
        "template": {
         "data": {
          "histogram2dcontour": [
           {
            "type": "histogram2dcontour",
            "colorbar": {
             "outlinewidth": 0,
             "ticks": ""
            },
            "colorscale": [
             [
              0.0,
              "#0d0887"
             ],
             [
              0.1111111111111111,
              "#46039f"
             ],
             [
              0.2222222222222222,
              "#7201a8"
             ],
             [
              0.3333333333333333,
              "#9c179e"
             ],
             [
              0.4444444444444444,
              "#bd3786"
             ],
             [
              0.5555555555555556,
              "#d8576b"
             ],
             [
              0.6666666666666666,
              "#ed7953"
             ],
             [
              0.7777777777777778,
              "#fb9f3a"
             ],
             [
              0.8888888888888888,
              "#fdca26"
             ],
             [
              1.0,
              "#f0f921"
             ]
            ]
           }
          ],
          "choropleth": [
           {
            "type": "choropleth",
            "colorbar": {
             "outlinewidth": 0,
             "ticks": ""
            }
           }
          ],
          "histogram2d": [
           {
            "type": "histogram2d",
            "colorbar": {
             "outlinewidth": 0,
             "ticks": ""
            },
            "colorscale": [
             [
              0.0,
              "#0d0887"
             ],
             [
              0.1111111111111111,
              "#46039f"
             ],
             [
              0.2222222222222222,
              "#7201a8"
             ],
             [
              0.3333333333333333,
              "#9c179e"
             ],
             [
              0.4444444444444444,
              "#bd3786"
             ],
             [
              0.5555555555555556,
              "#d8576b"
             ],
             [
              0.6666666666666666,
              "#ed7953"
             ],
             [
              0.7777777777777778,
              "#fb9f3a"
             ],
             [
              0.8888888888888888,
              "#fdca26"
             ],
             [
              1.0,
              "#f0f921"
             ]
            ]
           }
          ],
          "heatmap": [
           {
            "type": "heatmap",
            "colorbar": {
             "outlinewidth": 0,
             "ticks": ""
            },
            "colorscale": [
             [
              0.0,
              "#0d0887"
             ],
             [
              0.1111111111111111,
              "#46039f"
             ],
             [
              0.2222222222222222,
              "#7201a8"
             ],
             [
              0.3333333333333333,
              "#9c179e"
             ],
             [
              0.4444444444444444,
              "#bd3786"
             ],
             [
              0.5555555555555556,
              "#d8576b"
             ],
             [
              0.6666666666666666,
              "#ed7953"
             ],
             [
              0.7777777777777778,
              "#fb9f3a"
             ],
             [
              0.8888888888888888,
              "#fdca26"
             ],
             [
              1.0,
              "#f0f921"
             ]
            ]
           }
          ],
          "contourcarpet": [
           {
            "type": "contourcarpet",
            "colorbar": {
             "outlinewidth": 0,
             "ticks": ""
            }
           }
          ],
          "contour": [
           {
            "type": "contour",
            "colorbar": {
             "outlinewidth": 0,
             "ticks": ""
            },
            "colorscale": [
             [
              0.0,
              "#0d0887"
             ],
             [
              0.1111111111111111,
              "#46039f"
             ],
             [
              0.2222222222222222,
              "#7201a8"
             ],
             [
              0.3333333333333333,
              "#9c179e"
             ],
             [
              0.4444444444444444,
              "#bd3786"
             ],
             [
              0.5555555555555556,
              "#d8576b"
             ],
             [
              0.6666666666666666,
              "#ed7953"
             ],
             [
              0.7777777777777778,
              "#fb9f3a"
             ],
             [
              0.8888888888888888,
              "#fdca26"
             ],
             [
              1.0,
              "#f0f921"
             ]
            ]
           }
          ],
          "surface": [
           {
            "type": "surface",
            "colorbar": {
             "outlinewidth": 0,
             "ticks": ""
            },
            "colorscale": [
             [
              0.0,
              "#0d0887"
             ],
             [
              0.1111111111111111,
              "#46039f"
             ],
             [
              0.2222222222222222,
              "#7201a8"
             ],
             [
              0.3333333333333333,
              "#9c179e"
             ],
             [
              0.4444444444444444,
              "#bd3786"
             ],
             [
              0.5555555555555556,
              "#d8576b"
             ],
             [
              0.6666666666666666,
              "#ed7953"
             ],
             [
              0.7777777777777778,
              "#fb9f3a"
             ],
             [
              0.8888888888888888,
              "#fdca26"
             ],
             [
              1.0,
              "#f0f921"
             ]
            ]
           }
          ],
          "mesh3d": [
           {
            "type": "mesh3d",
            "colorbar": {
             "outlinewidth": 0,
             "ticks": ""
            }
           }
          ],
          "scatter": [
           {
            "fillpattern": {
             "fillmode": "overlay",
             "size": 10,
             "solidity": 0.2
            },
            "type": "scatter"
           }
          ],
          "parcoords": [
           {
            "type": "parcoords",
            "line": {
             "colorbar": {
              "outlinewidth": 0,
              "ticks": ""
             }
            }
           }
          ],
          "scatterpolargl": [
           {
            "type": "scatterpolargl",
            "marker": {
             "colorbar": {
              "outlinewidth": 0,
              "ticks": ""
             }
            }
           }
          ],
          "bar": [
           {
            "error_x": {
             "color": "#2a3f5f"
            },
            "error_y": {
             "color": "#2a3f5f"
            },
            "marker": {
             "line": {
              "color": "#E5ECF6",
              "width": 0.5
             },
             "pattern": {
              "fillmode": "overlay",
              "size": 10,
              "solidity": 0.2
             }
            },
            "type": "bar"
           }
          ],
          "scattergeo": [
           {
            "type": "scattergeo",
            "marker": {
             "colorbar": {
              "outlinewidth": 0,
              "ticks": ""
             }
            }
           }
          ],
          "scatterpolar": [
           {
            "type": "scatterpolar",
            "marker": {
             "colorbar": {
              "outlinewidth": 0,
              "ticks": ""
             }
            }
           }
          ],
          "histogram": [
           {
            "marker": {
             "pattern": {
              "fillmode": "overlay",
              "size": 10,
              "solidity": 0.2
             }
            },
            "type": "histogram"
           }
          ],
          "scattergl": [
           {
            "type": "scattergl",
            "marker": {
             "colorbar": {
              "outlinewidth": 0,
              "ticks": ""
             }
            }
           }
          ],
          "scatter3d": [
           {
            "type": "scatter3d",
            "line": {
             "colorbar": {
              "outlinewidth": 0,
              "ticks": ""
             }
            },
            "marker": {
             "colorbar": {
              "outlinewidth": 0,
              "ticks": ""
             }
            }
           }
          ],
          "scattermap": [
           {
            "type": "scattermap",
            "marker": {
             "colorbar": {
              "outlinewidth": 0,
              "ticks": ""
             }
            }
           }
          ],
          "scattermapbox": [
           {
            "type": "scattermapbox",
            "marker": {
             "colorbar": {
              "outlinewidth": 0,
              "ticks": ""
             }
            }
           }
          ],
          "scatterternary": [
           {
            "type": "scatterternary",
            "marker": {
             "colorbar": {
              "outlinewidth": 0,
              "ticks": ""
             }
            }
           }
          ],
          "scattercarpet": [
           {
            "type": "scattercarpet",
            "marker": {
             "colorbar": {
              "outlinewidth": 0,
              "ticks": ""
             }
            }
           }
          ],
          "carpet": [
           {
            "aaxis": {
             "endlinecolor": "#2a3f5f",
             "gridcolor": "white",
             "linecolor": "white",
             "minorgridcolor": "white",
             "startlinecolor": "#2a3f5f"
            },
            "baxis": {
             "endlinecolor": "#2a3f5f",
             "gridcolor": "white",
             "linecolor": "white",
             "minorgridcolor": "white",
             "startlinecolor": "#2a3f5f"
            },
            "type": "carpet"
           }
          ],
          "table": [
           {
            "cells": {
             "fill": {
              "color": "#EBF0F8"
             },
             "line": {
              "color": "white"
             }
            },
            "header": {
             "fill": {
              "color": "#C8D4E3"
             },
             "line": {
              "color": "white"
             }
            },
            "type": "table"
           }
          ],
          "barpolar": [
           {
            "marker": {
             "line": {
              "color": "#E5ECF6",
              "width": 0.5
             },
             "pattern": {
              "fillmode": "overlay",
              "size": 10,
              "solidity": 0.2
             }
            },
            "type": "barpolar"
           }
          ],
          "pie": [
           {
            "automargin": true,
            "type": "pie"
           }
          ]
         },
         "layout": {
          "autotypenumbers": "strict",
          "colorway": [
           "#636efa",
           "#EF553B",
           "#00cc96",
           "#ab63fa",
           "#FFA15A",
           "#19d3f3",
           "#FF6692",
           "#B6E880",
           "#FF97FF",
           "#FECB52"
          ],
          "font": {
           "color": "#2a3f5f"
          },
          "hovermode": "closest",
          "hoverlabel": {
           "align": "left"
          },
          "paper_bgcolor": "white",
          "plot_bgcolor": "#E5ECF6",
          "polar": {
           "bgcolor": "#E5ECF6",
           "angularaxis": {
            "gridcolor": "white",
            "linecolor": "white",
            "ticks": ""
           },
           "radialaxis": {
            "gridcolor": "white",
            "linecolor": "white",
            "ticks": ""
           }
          },
          "ternary": {
           "bgcolor": "#E5ECF6",
           "aaxis": {
            "gridcolor": "white",
            "linecolor": "white",
            "ticks": ""
           },
           "baxis": {
            "gridcolor": "white",
            "linecolor": "white",
            "ticks": ""
           },
           "caxis": {
            "gridcolor": "white",
            "linecolor": "white",
            "ticks": ""
           }
          },
          "coloraxis": {
           "colorbar": {
            "outlinewidth": 0,
            "ticks": ""
           }
          },
          "colorscale": {
           "sequential": [
            [
             0.0,
             "#0d0887"
            ],
            [
             0.1111111111111111,
             "#46039f"
            ],
            [
             0.2222222222222222,
             "#7201a8"
            ],
            [
             0.3333333333333333,
             "#9c179e"
            ],
            [
             0.4444444444444444,
             "#bd3786"
            ],
            [
             0.5555555555555556,
             "#d8576b"
            ],
            [
             0.6666666666666666,
             "#ed7953"
            ],
            [
             0.7777777777777778,
             "#fb9f3a"
            ],
            [
             0.8888888888888888,
             "#fdca26"
            ],
            [
             1.0,
             "#f0f921"
            ]
           ],
           "sequentialminus": [
            [
             0.0,
             "#0d0887"
            ],
            [
             0.1111111111111111,
             "#46039f"
            ],
            [
             0.2222222222222222,
             "#7201a8"
            ],
            [
             0.3333333333333333,
             "#9c179e"
            ],
            [
             0.4444444444444444,
             "#bd3786"
            ],
            [
             0.5555555555555556,
             "#d8576b"
            ],
            [
             0.6666666666666666,
             "#ed7953"
            ],
            [
             0.7777777777777778,
             "#fb9f3a"
            ],
            [
             0.8888888888888888,
             "#fdca26"
            ],
            [
             1.0,
             "#f0f921"
            ]
           ],
           "diverging": [
            [
             0,
             "#8e0152"
            ],
            [
             0.1,
             "#c51b7d"
            ],
            [
             0.2,
             "#de77ae"
            ],
            [
             0.3,
             "#f1b6da"
            ],
            [
             0.4,
             "#fde0ef"
            ],
            [
             0.5,
             "#f7f7f7"
            ],
            [
             0.6,
             "#e6f5d0"
            ],
            [
             0.7,
             "#b8e186"
            ],
            [
             0.8,
             "#7fbc41"
            ],
            [
             0.9,
             "#4d9221"
            ],
            [
             1,
             "#276419"
            ]
           ]
          },
          "xaxis": {
           "gridcolor": "white",
           "linecolor": "white",
           "ticks": "",
           "title": {
            "standoff": 15
           },
           "zerolinecolor": "white",
           "automargin": true,
           "zerolinewidth": 2
          },
          "yaxis": {
           "gridcolor": "white",
           "linecolor": "white",
           "ticks": "",
           "title": {
            "standoff": 15
           },
           "zerolinecolor": "white",
           "automargin": true,
           "zerolinewidth": 2
          },
          "scene": {
           "xaxis": {
            "backgroundcolor": "#E5ECF6",
            "gridcolor": "white",
            "linecolor": "white",
            "showbackground": true,
            "ticks": "",
            "zerolinecolor": "white",
            "gridwidth": 2
           },
           "yaxis": {
            "backgroundcolor": "#E5ECF6",
            "gridcolor": "white",
            "linecolor": "white",
            "showbackground": true,
            "ticks": "",
            "zerolinecolor": "white",
            "gridwidth": 2
           },
           "zaxis": {
            "backgroundcolor": "#E5ECF6",
            "gridcolor": "white",
            "linecolor": "white",
            "showbackground": true,
            "ticks": "",
            "zerolinecolor": "white",
            "gridwidth": 2
           }
          },
          "shapedefaults": {
           "line": {
            "color": "#2a3f5f"
           }
          },
          "annotationdefaults": {
           "arrowcolor": "#2a3f5f",
           "arrowhead": 0,
           "arrowwidth": 1
          },
          "geo": {
           "bgcolor": "white",
           "landcolor": "#E5ECF6",
           "subunitcolor": "white",
           "showland": true,
           "showlakes": true,
           "lakecolor": "white"
          },
          "title": {
           "x": 0.05
          },
          "mapbox": {
           "style": "light"
          }
         }
        },
        "xaxis": {
         "anchor": "y",
         "domain": [
          0.0,
          1.0
         ],
         "title": {
          "text": "Lift"
         }
        },
        "yaxis": {
         "anchor": "x",
         "domain": [
          0.0,
          1.0
         ],
         "title": {
          "text": "Rule"
         },
         "categoryorder": "total ascending",
         "categoryarray": [
          "Americano, EarlGrey → CinnamonRoll",
          "AuLait, EarlGrey → CinnamonRoll",
          "Americano → CinnamonRoll",
          "Tiramisu, EarlGrey → CinnamonRoll",
          "Americano → Tiramisu",
          "PourOver → Tiramisu",
          "PourOver → CinnamonRoll",
          "AuLait → CinnamonRoll",
          "EarlGrey → CinnamonRoll",
          "IceDrip → CinnamonRoll"
         ]
        },
        "legend": {
         "title": {
          "text": "Rule"
         },
         "tracegroupgap": 0
        },
        "title": {
         "text": "Top 10 Association Rules by Lift"
        },
        "barmode": "relative",
        "height": 500,
        "showlegend": false
       },
       "config": {
        "plotlyServerURL": "https://plot.ly"
       }
      }
     },
     "metadata": {},
     "output_type": "display_data"
    }
   ],
   "execution_count": 11
  },
  {
   "metadata": {},
   "cell_type": "markdown",
   "source": "## Trend 10: Support vs Confidence (Bubble Size = Lift)",
   "id": "bc936d04172def2d"
  },
  {
   "metadata": {
    "ExecuteTime": {
     "end_time": "2025-06-11T11:02:33.911157Z",
     "start_time": "2025-06-11T11:02:33.811947Z"
    }
   },
   "cell_type": "code",
   "source": [
    "# 建立規則欄位\n",
    "rules[\"rule\"] = rules[\"antecedents\"] + \" → \" + rules[\"consequents\"]\n",
    "\n",
    "# 建立 Plotly 氣泡圖\n",
    "fig = px.scatter(\n",
    "    rules,\n",
    "    x=\"support\",\n",
    "    y=\"confidence\",\n",
    "    size=\"lift\",\n",
    "    color=\"rule\",  # 可省略此行，保留會使每個氣泡色彩不同\n",
    "    hover_name=\"rule\",\n",
    "    hover_data={\n",
    "        \"support\": ':.4f',\n",
    "        \"confidence\": ':.4f',\n",
    "        \"lift\": ':.2f',\n",
    "    },\n",
    "    title=\"Support vs Confidence (Bubble Size = Lift)\",\n",
    "    labels={\n",
    "        \"support\": \"Support\",\n",
    "        \"confidence\": \"Confidence\",\n",
    "        \"lift\": \"Lift\",\n",
    "        \"rule\": \"Rule\"\n",
    "    },\n",
    "    size_max=40  # 控制氣泡最大尺寸\n",
    ")\n",
    "\n",
    "fig.update_layout(height=600)\n",
    "fig.show()\n"
   ],
   "id": "7288cf2abe730e59",
   "outputs": [
    {
     "data": {
      "application/vnd.plotly.v1+json": {
       "data": [
        {
         "customdata": {
          "dtype": "f8",
          "bdata": "JquEYG4C7T8=",
          "shape": "1, 1"
         },
         "hovertemplate": "<b>%{hovertext}</b><br><br>Rule=IceDrip → CinnamonRoll<br>Support=%{x:.4f}<br>Confidence=%{y:.4f}<br>Lift=%{customdata[0]:.2f}<extra></extra>",
         "hovertext": [
          "IceDrip → CinnamonRoll"
         ],
         "legendgroup": "IceDrip → CinnamonRoll",
         "marker": {
          "color": "#636efa",
          "size": {
           "dtype": "f8",
           "bdata": "JquEYG4C7T8="
          },
          "sizemode": "area",
          "sizeref": 5.665917328072671E-4,
          "symbol": "circle"
         },
         "mode": "markers",
         "name": "IceDrip → CinnamonRoll",
         "orientation": "v",
         "showlegend": true,
         "x": {
          "dtype": "f8",
          "bdata": "NhhpxwqEoT8="
         },
         "xaxis": "x",
         "y": {
          "dtype": "f8",
          "bdata": "+O1ST8Zv1z8="
         },
         "yaxis": "y",
         "type": "scatter"
        },
        {
         "customdata": {
          "dtype": "f8",
          "bdata": "GYaQjGb/7D8=",
          "shape": "1, 1"
         },
         "hovertemplate": "<b>%{hovertext}</b><br><br>Rule=EarlGrey → CinnamonRoll<br>Support=%{x:.4f}<br>Confidence=%{y:.4f}<br>Lift=%{customdata[0]:.2f}<extra></extra>",
         "hovertext": [
          "EarlGrey → CinnamonRoll"
         ],
         "legendgroup": "EarlGrey → CinnamonRoll",
         "marker": {
          "color": "#EF553B",
          "size": {
           "dtype": "f8",
           "bdata": "GYaQjGb/7D8="
          },
          "sizemode": "area",
          "sizeref": 5.665917328072671E-4,
          "symbol": "circle"
         },
         "mode": "markers",
         "name": "EarlGrey → CinnamonRoll",
         "orientation": "v",
         "showlegend": true,
         "x": {
          "dtype": "f8",
          "bdata": "3nNLnPo9tz8="
         },
         "xaxis": "x",
         "y": {
          "dtype": "f8",
          "bdata": "JZrFhVNt1z8="
         },
         "yaxis": "y",
         "type": "scatter"
        },
        {
         "customdata": {
          "dtype": "f8",
          "bdata": "uk00goX/6z8=",
          "shape": "1, 1"
         },
         "hovertemplate": "<b>%{hovertext}</b><br><br>Rule=AuLait → CinnamonRoll<br>Support=%{x:.4f}<br>Confidence=%{y:.4f}<br>Lift=%{customdata[0]:.2f}<extra></extra>",
         "hovertext": [
          "AuLait → CinnamonRoll"
         ],
         "legendgroup": "AuLait → CinnamonRoll",
         "marker": {
          "color": "#00cc96",
          "size": {
           "dtype": "f8",
           "bdata": "uk00goX/6z8="
          },
          "sizemode": "area",
          "sizeref": 5.665917328072671E-4,
          "symbol": "circle"
         },
         "mode": "markers",
         "name": "AuLait → CinnamonRoll",
         "orientation": "v",
         "showlegend": true,
         "x": {
          "dtype": "f8",
          "bdata": "G8prKK+hvD8="
         },
         "xaxis": "x",
         "y": {
          "dtype": "f8",
          "bdata": "6WlZWJqe1j8="
         },
         "yaxis": "y",
         "type": "scatter"
        },
        {
         "customdata": {
          "dtype": "f8",
          "bdata": "sQjEjqC+6z8=",
          "shape": "1, 1"
         },
         "hovertemplate": "<b>%{hovertext}</b><br><br>Rule=PourOver → CinnamonRoll<br>Support=%{x:.4f}<br>Confidence=%{y:.4f}<br>Lift=%{customdata[0]:.2f}<extra></extra>",
         "hovertext": [
          "PourOver → CinnamonRoll"
         ],
         "legendgroup": "PourOver → CinnamonRoll",
         "marker": {
          "color": "#ab63fa",
          "size": {
           "dtype": "f8",
           "bdata": "sQjEjqC+6z8="
          },
          "sizemode": "area",
          "sizeref": 5.665917328072671E-4,
          "symbol": "circle"
         },
         "mode": "markers",
         "name": "PourOver → CinnamonRoll",
         "orientation": "v",
         "showlegend": true,
         "x": {
          "dtype": "f8",
          "bdata": "mpmZmZmZqT8="
         },
         "xaxis": "x",
         "y": {
          "dtype": "f8",
          "bdata": "tKhZ1Cxq1j8="
         },
         "yaxis": "y",
         "type": "scatter"
        },
        {
         "customdata": {
          "dtype": "f8",
          "bdata": "uA6UoGV/6z8=",
          "shape": "1, 1"
         },
         "hovertemplate": "<b>%{hovertext}</b><br><br>Rule=PourOver → Tiramisu<br>Support=%{x:.4f}<br>Confidence=%{y:.4f}<br>Lift=%{customdata[0]:.2f}<extra></extra>",
         "hovertext": [
          "PourOver → Tiramisu"
         ],
         "legendgroup": "PourOver → Tiramisu",
         "marker": {
          "color": "#FFA15A",
          "size": {
           "dtype": "f8",
           "bdata": "uA6UoGV/6z8="
          },
          "sizemode": "area",
          "sizeref": 5.665917328072671E-4,
          "symbol": "circle"
         },
         "mode": "markers",
         "name": "PourOver → Tiramisu",
         "orientation": "v",
         "showlegend": true,
         "x": {
          "dtype": "f8",
          "bdata": "rmMFwkg7pj8="
         },
         "xaxis": "x",
         "y": {
          "dtype": "f8",
          "bdata": "m9xN7iZ30z8="
         },
         "yaxis": "y",
         "type": "scatter"
        },
        {
         "customdata": {
          "dtype": "f8",
          "bdata": "3GHWH4pv6z8=",
          "shape": "1, 1"
         },
         "hovertemplate": "<b>%{hovertext}</b><br><br>Rule=Americano → Tiramisu<br>Support=%{x:.4f}<br>Confidence=%{y:.4f}<br>Lift=%{customdata[0]:.2f}<extra></extra>",
         "hovertext": [
          "Americano → Tiramisu"
         ],
         "legendgroup": "Americano → Tiramisu",
         "marker": {
          "color": "#19d3f3",
          "size": {
           "dtype": "f8",
           "bdata": "3GHWH4pv6z8="
          },
          "sizemode": "area",
          "sizeref": 5.665917328072671E-4,
          "symbol": "circle"
         },
         "mode": "markers",
         "name": "Americano → Tiramisu",
         "orientation": "v",
         "showlegend": true,
         "x": {
          "dtype": "f8",
          "bdata": "fpF2rEAYuT8="
         },
         "xaxis": "x",
         "y": {
          "dtype": "f8",
          "bdata": "i5/qOu1r0z8="
         },
         "yaxis": "y",
         "type": "scatter"
        },
        {
         "customdata": {
          "dtype": "f8",
          "bdata": "kfYDCgVC6z8=",
          "shape": "1, 1"
         },
         "hovertemplate": "<b>%{hovertext}</b><br><br>Rule=Tiramisu, EarlGrey → CinnamonRoll<br>Support=%{x:.4f}<br>Confidence=%{y:.4f}<br>Lift=%{customdata[0]:.2f}<extra></extra>",
         "hovertext": [
          "Tiramisu, EarlGrey → CinnamonRoll"
         ],
         "legendgroup": "Tiramisu, EarlGrey → CinnamonRoll",
         "marker": {
          "color": "#FF6692",
          "size": {
           "dtype": "f8",
           "bdata": "kfYDCgVC6z8="
          },
          "sizemode": "area",
          "sizeref": 5.665917328072671E-4,
          "symbol": "circle"
         },
         "mode": "markers",
         "name": "Tiramisu, EarlGrey → CinnamonRoll",
         "orientation": "v",
         "showlegend": true,
         "x": {
          "dtype": "f8",
          "bdata": "2ViBMNKOlT8="
         },
         "xaxis": "x",
         "y": {
          "dtype": "f8",
          "bdata": "BRZYYIEF1j8="
         },
         "yaxis": "y",
         "type": "scatter"
        },
        {
         "customdata": {
          "dtype": "f8",
          "bdata": "cEcS5e8a6z8=",
          "shape": "1, 1"
         },
         "hovertemplate": "<b>%{hovertext}</b><br><br>Rule=Americano → CinnamonRoll<br>Support=%{x:.4f}<br>Confidence=%{y:.4f}<br>Lift=%{customdata[0]:.2f}<extra></extra>",
         "hovertext": [
          "Americano → CinnamonRoll"
         ],
         "legendgroup": "Americano → CinnamonRoll",
         "marker": {
          "color": "#B6E880",
          "size": {
           "dtype": "f8",
           "bdata": "cEcS5e8a6z8="
          },
          "sizemode": "area",
          "sizeref": 5.665917328072671E-4,
          "symbol": "circle"
         },
         "mode": "markers",
         "name": "Americano → CinnamonRoll",
         "orientation": "v",
         "showlegend": true,
         "x": {
          "dtype": "f8",
          "bdata": "scSp33NLvD8="
         },
         "xaxis": "x",
         "y": {
          "dtype": "f8",
          "bdata": "rpbdRe7l1T8="
         },
         "yaxis": "y",
         "type": "scatter"
        },
        {
         "customdata": {
          "dtype": "f8",
          "bdata": "2hNK7Ib86j8=",
          "shape": "1, 1"
         },
         "hovertemplate": "<b>%{hovertext}</b><br><br>Rule=AuLait, EarlGrey → CinnamonRoll<br>Support=%{x:.4f}<br>Confidence=%{y:.4f}<br>Lift=%{customdata[0]:.2f}<extra></extra>",
         "hovertext": [
          "AuLait, EarlGrey → CinnamonRoll"
         ],
         "legendgroup": "AuLait, EarlGrey → CinnamonRoll",
         "marker": {
          "color": "#FF97FF",
          "size": {
           "dtype": "f8",
           "bdata": "2hNK7Ib86j8="
          },
          "sizemode": "area",
          "sizeref": 5.665917328072671E-4,
          "symbol": "circle"
         },
         "mode": "markers",
         "name": "AuLait, EarlGrey → CinnamonRoll",
         "orientation": "v",
         "showlegend": true,
         "x": {
          "dtype": "f8",
          "bdata": "FE79nlvilD8="
         },
         "xaxis": "x",
         "y": {
          "dtype": "f8",
          "bdata": "1VzN1VzN1T8="
         },
         "yaxis": "y",
         "type": "scatter"
        },
        {
         "customdata": {
          "dtype": "f8",
          "bdata": "3daz4fRn6j8=",
          "shape": "1, 1"
         },
         "hovertemplate": "<b>%{hovertext}</b><br><br>Rule=Americano, EarlGrey → CinnamonRoll<br>Support=%{x:.4f}<br>Confidence=%{y:.4f}<br>Lift=%{customdata[0]:.2f}<extra></extra>",
         "hovertext": [
          "Americano, EarlGrey → CinnamonRoll"
         ],
         "legendgroup": "Americano, EarlGrey → CinnamonRoll",
         "marker": {
          "color": "#FECB52",
          "size": {
           "dtype": "f8",
           "bdata": "3daz4fRn6j8="
          },
          "sizemode": "area",
          "sizeref": 5.665917328072671E-4,
          "symbol": "circle"
         },
         "mode": "markers",
         "name": "Americano, EarlGrey → CinnamonRoll",
         "orientation": "v",
         "showlegend": true,
         "x": {
          "dtype": "f8",
          "bdata": "2ViBMNKOlT8="
         },
         "xaxis": "x",
         "y": {
          "dtype": "f8",
          "bdata": "VVVVVVVV1T8="
         },
         "yaxis": "y",
         "type": "scatter"
        },
        {
         "customdata": {
          "dtype": "f8",
          "bdata": "q29GcgAQ6j8=",
          "shape": "1, 1"
         },
         "hovertemplate": "<b>%{hovertext}</b><br><br>Rule=Tiramisu → CinnamonRoll<br>Support=%{x:.4f}<br>Confidence=%{y:.4f}<br>Lift=%{customdata[0]:.2f}<extra></extra>",
         "hovertext": [
          "Tiramisu → CinnamonRoll"
         ],
         "legendgroup": "Tiramisu → CinnamonRoll",
         "marker": {
          "color": "#636efa",
          "size": {
           "dtype": "f8",
           "bdata": "q29GcgAQ6j8="
          },
          "sizemode": "area",
          "sizeref": 5.665917328072671E-4,
          "symbol": "circle"
         },
         "mode": "markers",
         "name": "Tiramisu → CinnamonRoll",
         "orientation": "v",
         "showlegend": true,
         "x": {
          "dtype": "f8",
          "bdata": "9twSp37PvT8="
         },
         "xaxis": "x",
         "y": {
          "dtype": "f8",
          "bdata": "7Z59bEYO1T8="
         },
         "yaxis": "y",
         "type": "scatter"
        },
        {
         "customdata": {
          "dtype": "f8",
          "bdata": "8YL1f1sv6T8=",
          "shape": "1, 1"
         },
         "hovertemplate": "<b>%{hovertext}</b><br><br>Rule=ShaddockSparkling → CinnamonRoll<br>Support=%{x:.4f}<br>Confidence=%{y:.4f}<br>Lift=%{customdata[0]:.2f}<extra></extra>",
         "hovertext": [
          "ShaddockSparkling → CinnamonRoll"
         ],
         "legendgroup": "ShaddockSparkling → CinnamonRoll",
         "marker": {
          "color": "#EF553B",
          "size": {
           "dtype": "f8",
           "bdata": "8YL1f1sv6T8="
          },
          "sizemode": "area",
          "sizeref": 5.665917328072671E-4,
          "symbol": "circle"
         },
         "mode": "markers",
         "name": "ShaddockSparkling → CinnamonRoll",
         "orientation": "v",
         "showlegend": true,
         "x": {
          "dtype": "f8",
          "bdata": "XyivobyGoj8="
         },
         "xaxis": "x",
         "y": {
          "dtype": "f8",
          "bdata": "eEuhP8lY1D8="
         },
         "yaxis": "y",
         "type": "scatter"
        }
       ],
       "layout": {
        "template": {
         "data": {
          "histogram2dcontour": [
           {
            "type": "histogram2dcontour",
            "colorbar": {
             "outlinewidth": 0,
             "ticks": ""
            },
            "colorscale": [
             [
              0.0,
              "#0d0887"
             ],
             [
              0.1111111111111111,
              "#46039f"
             ],
             [
              0.2222222222222222,
              "#7201a8"
             ],
             [
              0.3333333333333333,
              "#9c179e"
             ],
             [
              0.4444444444444444,
              "#bd3786"
             ],
             [
              0.5555555555555556,
              "#d8576b"
             ],
             [
              0.6666666666666666,
              "#ed7953"
             ],
             [
              0.7777777777777778,
              "#fb9f3a"
             ],
             [
              0.8888888888888888,
              "#fdca26"
             ],
             [
              1.0,
              "#f0f921"
             ]
            ]
           }
          ],
          "choropleth": [
           {
            "type": "choropleth",
            "colorbar": {
             "outlinewidth": 0,
             "ticks": ""
            }
           }
          ],
          "histogram2d": [
           {
            "type": "histogram2d",
            "colorbar": {
             "outlinewidth": 0,
             "ticks": ""
            },
            "colorscale": [
             [
              0.0,
              "#0d0887"
             ],
             [
              0.1111111111111111,
              "#46039f"
             ],
             [
              0.2222222222222222,
              "#7201a8"
             ],
             [
              0.3333333333333333,
              "#9c179e"
             ],
             [
              0.4444444444444444,
              "#bd3786"
             ],
             [
              0.5555555555555556,
              "#d8576b"
             ],
             [
              0.6666666666666666,
              "#ed7953"
             ],
             [
              0.7777777777777778,
              "#fb9f3a"
             ],
             [
              0.8888888888888888,
              "#fdca26"
             ],
             [
              1.0,
              "#f0f921"
             ]
            ]
           }
          ],
          "heatmap": [
           {
            "type": "heatmap",
            "colorbar": {
             "outlinewidth": 0,
             "ticks": ""
            },
            "colorscale": [
             [
              0.0,
              "#0d0887"
             ],
             [
              0.1111111111111111,
              "#46039f"
             ],
             [
              0.2222222222222222,
              "#7201a8"
             ],
             [
              0.3333333333333333,
              "#9c179e"
             ],
             [
              0.4444444444444444,
              "#bd3786"
             ],
             [
              0.5555555555555556,
              "#d8576b"
             ],
             [
              0.6666666666666666,
              "#ed7953"
             ],
             [
              0.7777777777777778,
              "#fb9f3a"
             ],
             [
              0.8888888888888888,
              "#fdca26"
             ],
             [
              1.0,
              "#f0f921"
             ]
            ]
           }
          ],
          "contourcarpet": [
           {
            "type": "contourcarpet",
            "colorbar": {
             "outlinewidth": 0,
             "ticks": ""
            }
           }
          ],
          "contour": [
           {
            "type": "contour",
            "colorbar": {
             "outlinewidth": 0,
             "ticks": ""
            },
            "colorscale": [
             [
              0.0,
              "#0d0887"
             ],
             [
              0.1111111111111111,
              "#46039f"
             ],
             [
              0.2222222222222222,
              "#7201a8"
             ],
             [
              0.3333333333333333,
              "#9c179e"
             ],
             [
              0.4444444444444444,
              "#bd3786"
             ],
             [
              0.5555555555555556,
              "#d8576b"
             ],
             [
              0.6666666666666666,
              "#ed7953"
             ],
             [
              0.7777777777777778,
              "#fb9f3a"
             ],
             [
              0.8888888888888888,
              "#fdca26"
             ],
             [
              1.0,
              "#f0f921"
             ]
            ]
           }
          ],
          "surface": [
           {
            "type": "surface",
            "colorbar": {
             "outlinewidth": 0,
             "ticks": ""
            },
            "colorscale": [
             [
              0.0,
              "#0d0887"
             ],
             [
              0.1111111111111111,
              "#46039f"
             ],
             [
              0.2222222222222222,
              "#7201a8"
             ],
             [
              0.3333333333333333,
              "#9c179e"
             ],
             [
              0.4444444444444444,
              "#bd3786"
             ],
             [
              0.5555555555555556,
              "#d8576b"
             ],
             [
              0.6666666666666666,
              "#ed7953"
             ],
             [
              0.7777777777777778,
              "#fb9f3a"
             ],
             [
              0.8888888888888888,
              "#fdca26"
             ],
             [
              1.0,
              "#f0f921"
             ]
            ]
           }
          ],
          "mesh3d": [
           {
            "type": "mesh3d",
            "colorbar": {
             "outlinewidth": 0,
             "ticks": ""
            }
           }
          ],
          "scatter": [
           {
            "fillpattern": {
             "fillmode": "overlay",
             "size": 10,
             "solidity": 0.2
            },
            "type": "scatter"
           }
          ],
          "parcoords": [
           {
            "type": "parcoords",
            "line": {
             "colorbar": {
              "outlinewidth": 0,
              "ticks": ""
             }
            }
           }
          ],
          "scatterpolargl": [
           {
            "type": "scatterpolargl",
            "marker": {
             "colorbar": {
              "outlinewidth": 0,
              "ticks": ""
             }
            }
           }
          ],
          "bar": [
           {
            "error_x": {
             "color": "#2a3f5f"
            },
            "error_y": {
             "color": "#2a3f5f"
            },
            "marker": {
             "line": {
              "color": "#E5ECF6",
              "width": 0.5
             },
             "pattern": {
              "fillmode": "overlay",
              "size": 10,
              "solidity": 0.2
             }
            },
            "type": "bar"
           }
          ],
          "scattergeo": [
           {
            "type": "scattergeo",
            "marker": {
             "colorbar": {
              "outlinewidth": 0,
              "ticks": ""
             }
            }
           }
          ],
          "scatterpolar": [
           {
            "type": "scatterpolar",
            "marker": {
             "colorbar": {
              "outlinewidth": 0,
              "ticks": ""
             }
            }
           }
          ],
          "histogram": [
           {
            "marker": {
             "pattern": {
              "fillmode": "overlay",
              "size": 10,
              "solidity": 0.2
             }
            },
            "type": "histogram"
           }
          ],
          "scattergl": [
           {
            "type": "scattergl",
            "marker": {
             "colorbar": {
              "outlinewidth": 0,
              "ticks": ""
             }
            }
           }
          ],
          "scatter3d": [
           {
            "type": "scatter3d",
            "line": {
             "colorbar": {
              "outlinewidth": 0,
              "ticks": ""
             }
            },
            "marker": {
             "colorbar": {
              "outlinewidth": 0,
              "ticks": ""
             }
            }
           }
          ],
          "scattermap": [
           {
            "type": "scattermap",
            "marker": {
             "colorbar": {
              "outlinewidth": 0,
              "ticks": ""
             }
            }
           }
          ],
          "scattermapbox": [
           {
            "type": "scattermapbox",
            "marker": {
             "colorbar": {
              "outlinewidth": 0,
              "ticks": ""
             }
            }
           }
          ],
          "scatterternary": [
           {
            "type": "scatterternary",
            "marker": {
             "colorbar": {
              "outlinewidth": 0,
              "ticks": ""
             }
            }
           }
          ],
          "scattercarpet": [
           {
            "type": "scattercarpet",
            "marker": {
             "colorbar": {
              "outlinewidth": 0,
              "ticks": ""
             }
            }
           }
          ],
          "carpet": [
           {
            "aaxis": {
             "endlinecolor": "#2a3f5f",
             "gridcolor": "white",
             "linecolor": "white",
             "minorgridcolor": "white",
             "startlinecolor": "#2a3f5f"
            },
            "baxis": {
             "endlinecolor": "#2a3f5f",
             "gridcolor": "white",
             "linecolor": "white",
             "minorgridcolor": "white",
             "startlinecolor": "#2a3f5f"
            },
            "type": "carpet"
           }
          ],
          "table": [
           {
            "cells": {
             "fill": {
              "color": "#EBF0F8"
             },
             "line": {
              "color": "white"
             }
            },
            "header": {
             "fill": {
              "color": "#C8D4E3"
             },
             "line": {
              "color": "white"
             }
            },
            "type": "table"
           }
          ],
          "barpolar": [
           {
            "marker": {
             "line": {
              "color": "#E5ECF6",
              "width": 0.5
             },
             "pattern": {
              "fillmode": "overlay",
              "size": 10,
              "solidity": 0.2
             }
            },
            "type": "barpolar"
           }
          ],
          "pie": [
           {
            "automargin": true,
            "type": "pie"
           }
          ]
         },
         "layout": {
          "autotypenumbers": "strict",
          "colorway": [
           "#636efa",
           "#EF553B",
           "#00cc96",
           "#ab63fa",
           "#FFA15A",
           "#19d3f3",
           "#FF6692",
           "#B6E880",
           "#FF97FF",
           "#FECB52"
          ],
          "font": {
           "color": "#2a3f5f"
          },
          "hovermode": "closest",
          "hoverlabel": {
           "align": "left"
          },
          "paper_bgcolor": "white",
          "plot_bgcolor": "#E5ECF6",
          "polar": {
           "bgcolor": "#E5ECF6",
           "angularaxis": {
            "gridcolor": "white",
            "linecolor": "white",
            "ticks": ""
           },
           "radialaxis": {
            "gridcolor": "white",
            "linecolor": "white",
            "ticks": ""
           }
          },
          "ternary": {
           "bgcolor": "#E5ECF6",
           "aaxis": {
            "gridcolor": "white",
            "linecolor": "white",
            "ticks": ""
           },
           "baxis": {
            "gridcolor": "white",
            "linecolor": "white",
            "ticks": ""
           },
           "caxis": {
            "gridcolor": "white",
            "linecolor": "white",
            "ticks": ""
           }
          },
          "coloraxis": {
           "colorbar": {
            "outlinewidth": 0,
            "ticks": ""
           }
          },
          "colorscale": {
           "sequential": [
            [
             0.0,
             "#0d0887"
            ],
            [
             0.1111111111111111,
             "#46039f"
            ],
            [
             0.2222222222222222,
             "#7201a8"
            ],
            [
             0.3333333333333333,
             "#9c179e"
            ],
            [
             0.4444444444444444,
             "#bd3786"
            ],
            [
             0.5555555555555556,
             "#d8576b"
            ],
            [
             0.6666666666666666,
             "#ed7953"
            ],
            [
             0.7777777777777778,
             "#fb9f3a"
            ],
            [
             0.8888888888888888,
             "#fdca26"
            ],
            [
             1.0,
             "#f0f921"
            ]
           ],
           "sequentialminus": [
            [
             0.0,
             "#0d0887"
            ],
            [
             0.1111111111111111,
             "#46039f"
            ],
            [
             0.2222222222222222,
             "#7201a8"
            ],
            [
             0.3333333333333333,
             "#9c179e"
            ],
            [
             0.4444444444444444,
             "#bd3786"
            ],
            [
             0.5555555555555556,
             "#d8576b"
            ],
            [
             0.6666666666666666,
             "#ed7953"
            ],
            [
             0.7777777777777778,
             "#fb9f3a"
            ],
            [
             0.8888888888888888,
             "#fdca26"
            ],
            [
             1.0,
             "#f0f921"
            ]
           ],
           "diverging": [
            [
             0,
             "#8e0152"
            ],
            [
             0.1,
             "#c51b7d"
            ],
            [
             0.2,
             "#de77ae"
            ],
            [
             0.3,
             "#f1b6da"
            ],
            [
             0.4,
             "#fde0ef"
            ],
            [
             0.5,
             "#f7f7f7"
            ],
            [
             0.6,
             "#e6f5d0"
            ],
            [
             0.7,
             "#b8e186"
            ],
            [
             0.8,
             "#7fbc41"
            ],
            [
             0.9,
             "#4d9221"
            ],
            [
             1,
             "#276419"
            ]
           ]
          },
          "xaxis": {
           "gridcolor": "white",
           "linecolor": "white",
           "ticks": "",
           "title": {
            "standoff": 15
           },
           "zerolinecolor": "white",
           "automargin": true,
           "zerolinewidth": 2
          },
          "yaxis": {
           "gridcolor": "white",
           "linecolor": "white",
           "ticks": "",
           "title": {
            "standoff": 15
           },
           "zerolinecolor": "white",
           "automargin": true,
           "zerolinewidth": 2
          },
          "scene": {
           "xaxis": {
            "backgroundcolor": "#E5ECF6",
            "gridcolor": "white",
            "linecolor": "white",
            "showbackground": true,
            "ticks": "",
            "zerolinecolor": "white",
            "gridwidth": 2
           },
           "yaxis": {
            "backgroundcolor": "#E5ECF6",
            "gridcolor": "white",
            "linecolor": "white",
            "showbackground": true,
            "ticks": "",
            "zerolinecolor": "white",
            "gridwidth": 2
           },
           "zaxis": {
            "backgroundcolor": "#E5ECF6",
            "gridcolor": "white",
            "linecolor": "white",
            "showbackground": true,
            "ticks": "",
            "zerolinecolor": "white",
            "gridwidth": 2
           }
          },
          "shapedefaults": {
           "line": {
            "color": "#2a3f5f"
           }
          },
          "annotationdefaults": {
           "arrowcolor": "#2a3f5f",
           "arrowhead": 0,
           "arrowwidth": 1
          },
          "geo": {
           "bgcolor": "white",
           "landcolor": "#E5ECF6",
           "subunitcolor": "white",
           "showland": true,
           "showlakes": true,
           "lakecolor": "white"
          },
          "title": {
           "x": 0.05
          },
          "mapbox": {
           "style": "light"
          }
         }
        },
        "xaxis": {
         "anchor": "y",
         "domain": [
          0.0,
          1.0
         ],
         "title": {
          "text": "Support"
         }
        },
        "yaxis": {
         "anchor": "x",
         "domain": [
          0.0,
          1.0
         ],
         "title": {
          "text": "Confidence"
         }
        },
        "legend": {
         "title": {
          "text": "Rule"
         },
         "tracegroupgap": 0,
         "itemsizing": "constant"
        },
        "title": {
         "text": "Support vs Confidence (Bubble Size = Lift)"
        },
        "height": 600
       },
       "config": {
        "plotlyServerURL": "https://plot.ly"
       }
      }
     },
     "metadata": {},
     "output_type": "display_data"
    }
   ],
   "execution_count": 12
  }
 ],
 "metadata": {
  "kernelspec": {
   "name": "python3",
   "language": "python",
   "display_name": "Python 3 (ipykernel)"
  }
 },
 "nbformat": 4,
 "nbformat_minor": 5
}
